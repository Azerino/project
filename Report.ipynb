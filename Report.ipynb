{
 "metadata": {
  "language_info": {
   "codemirror_mode": {
    "name": "ipython",
    "version": 3
   },
   "file_extension": ".py",
   "mimetype": "text/x-python",
   "name": "python",
   "nbconvert_exporter": "python",
   "pygments_lexer": "ipython3",
   "version": "3.8.5-final"
  },
  "orig_nbformat": 2,
  "kernelspec": {
   "name": "Python 3.8.5 32-bit ('.venv': venv)",
   "display_name": "Python 3.8.5 32-bit ('.venv': venv)",
   "metadata": {
    "interpreter": {
     "hash": "dfaae3b4c96d05185dffe78e81456b96e4661ad84070043de12cb911b924aa8d"
    }
   }
  }
 },
 "nbformat": 4,
 "nbformat_minor": 2,
 "cells": [
  {
   "source": [
    "<h1> Implementationen und Tests <h1>"
   ],
   "cell_type": "markdown",
   "metadata": {}
  },
  {
   "source": [
    "Der erste Schritt der im Projekt implementiert wurde, ist die Leistungszahl (engl. figure of merit), die zu einem gegebenen Generatorvektor (engl. generating vector) einen Wert zurück gibt. Dieser sagt aus, wie gut besagter Vektor für die Erstellung eines Gitters geeignet ist. Hierbei sind geringere Werte besser. <br>\n",
    "Im ersten Schritt wurden dafür die nötigen Pakete in Python implementiert und übersichtshalber die ersten kleinen Methoden definiert. <br>\n",
    "<br>\n",
    "c(n) definiert die Menge: $ C(N):= (-N/2,N/2] \\cap \\mathbb{Z}$ <br>\n",
    "<br>\n",
    "r1(h): Für $h \\in \\mathbb{Z}$ ist $r_1(h)=max(1,|h|)$\n"
   ],
   "cell_type": "markdown",
   "metadata": {}
  },
  {
   "cell_type": "code",
   "execution_count": 3,
   "metadata": {},
   "outputs": [],
   "source": [
    "import numpy as np\n",
    "import math\n",
    "import time\n",
    "\n",
    "def c(n):\n",
    "    return np.array(range(int(-n/2),int(n/2+1)))\n",
    "\n",
    "def r1(h):\n",
    "    return max(1,abs(h))"
   ]
  },
  {
   "source": [
    "<br>\n",
    "Die eigentliche Leistungszahl ist nun folgendermaßen definiert: <br>\n",
    "$$\\begin{aligned} R_N(g)=-1 + \\frac{1}{N} \\sum \\limits_{n=0}^{N-1} \\prod \\limits_{j=1}^s \\phi(\\frac{ng_j}{N}) \\end{aligned}$$ \n",
    "mit\n",
    "$$\\begin{aligned} \\phi(x)=\\sum \\limits_{h\\in C(N)} \\frac{1}{r_1(h)}exp(2\\pi ihx) \\end{aligned}$$\n",
    "Zuerst wird $\\phi (x)$ implementiert."
   ],
   "cell_type": "markdown",
   "metadata": {}
  },
  {
   "cell_type": "code",
   "execution_count": 4,
   "metadata": {},
   "outputs": [],
   "source": [
    "def phi(x,n):   \n",
    "    result = 0\n",
    "    for h in c(n):\n",
    "        result = result + ((1/r1(h))*np.exp(2*math.pi*complex(0,1)*h*x))\n",
    "    return result"
   ]
  },
  {
   "source": [
    "<br>\n",
    "Wenn wir jetzt jedoch ohne Weiteres $R_N(g)$ implementieren befinden wir uns bei einer Laufzeit im Bereich von $O(N^2)$. <br>\n",
    "Da $\\phi (ng/N)$ allerdings nur maximal $N$ verschiedene Werte annimmt - nämlich $\\phi (ng/N)=\\phi (k/N)$ für $k \\in {0,1,...,N-1}$ - können wir die möglichen Werte schon im Voraus berechnen und in einem Array speichern. Statt $\\phi (ng/N)$ zu berechnen können wir einfach den Eintrag an der Stelle $n  g (mod (N))$ aus dem Array nehmen.\n",
    "Damit kommen wir in einen Bereich von $O(sN)$. <br>\n",
    "<br>\n",
    "Also erstellen wir zu erst eine Methode, die uns die Werte im vorraus berechnet und in ein Array schreibt, und im Anschluss die Berechnung der Leistungszahl mit Hilfe der Werte."
   ],
   "cell_type": "markdown",
   "metadata": {}
  },
  {
   "cell_type": "code",
   "execution_count": 5,
   "metadata": {},
   "outputs": [],
   "source": [
    "def precom(n): \n",
    "    precomvalues = [0]*n\n",
    "    for i in range(0,n):\n",
    "        precomvalues[i] = phi(i/n,n)\n",
    "    return precomvalues"
   ]
  },
  {
   "cell_type": "code",
   "execution_count": 6,
   "metadata": {},
   "outputs": [],
   "source": [
    "def fom_precom(g,n):\n",
    "    result = 0\n",
    "    precomvalues = precom(n)\n",
    "    for i in np.array(range(0,n)):\n",
    "        helper = 1 \n",
    "        for x in g:\n",
    "            helper = helper * precomvalues[(i*x)%n]\n",
    "        result = result + helper\n",
    "    merit =  result/n-1\n",
    "    if merit.imag < 1e-14:\n",
    "        return merit.real\n",
    "    return \"Error, figure of merit has a complex part\""
   ]
  },
  {
   "cell_type": "code",
   "execution_count": 8,
   "metadata": {},
   "outputs": [],
   "source": [
    "def fom_precom_time(g,n): \n",
    "    start = time.process_time()\n",
    "    fom = fom_precom(g,n)\n",
    "    end = time.process_time()\n",
    "    cputime = end - start\n",
    "    print(fom,\"   time: \", format(cputime))"
   ]
  },
  {
   "source": [
    "<br>\n",
    "Hierbei sei angemerkt, dass die Leistungszahl einen Imaginärteil mit sich führt, der aber fast immer in einem Bereich <1e-15 liegt, sodass er vernachlässigt werden kann. <br> <br>\n",
    "Nun können wir dies an dem, vom Latnetbuilder erstellten, Generatorvektor $[1, 282, 197, 377, 233, 55, 73, 263, 408, 46]$ testen."
   ],
   "cell_type": "markdown",
   "metadata": {}
  },
  {
   "cell_type": "code",
   "execution_count": 9,
   "metadata": {
    "tags": []
   },
   "outputs": [
    {
     "output_type": "stream",
     "name": "stdout",
     "text": "436619963.19030744    time:  10.78125\n"
    }
   ],
   "source": [
    "fom_precom_time([1, 282, 197, 377, 233, 55, 73, 263, 408, 46],1009)"
   ]
  },
  {
   "source": [
    "<br>\n",
    "Und auch der Generatorvektor aus der Matlab Implementation $[1,390,265,180,242,491,450,347,77,332]$ liefert einen ähnlichen Wert:"
   ],
   "cell_type": "markdown",
   "metadata": {}
  },
  {
   "cell_type": "code",
   "execution_count": 10,
   "metadata": {
    "tags": []
   },
   "outputs": [
    {
     "output_type": "stream",
     "name": "stdout",
     "text": "436619963.311887    time:  10.453125\n"
    }
   ],
   "source": [
    "fom_precom_time([1, 390, 265, 180, 242, 491, 450, 347, 77, 332],1009)"
   ]
  },
  {
   "source": [
    "<br>\n",
    "Allerdings wissen wir zur Zeit noch gar nicht, ob dies überhaupt ein passender Wert für die Leistungszahl ist. <br>\n",
    "Aus dem Grund berechnen wir im nächsten Schritt den maximalen Wert, den die Leistungszahl überhaupt annehmen kann. Es gilt: <br>\n",
    "$$\\begin{aligned} R_N(g) \\leq \\frac{2^{s+1}(log N +1)^s}{N} \\end{aligned}$$"
   ],
   "cell_type": "markdown",
   "metadata": {}
  },
  {
   "cell_type": "code",
   "execution_count": 12,
   "metadata": {},
   "outputs": [
    {
     "output_type": "execute_result",
     "data": {
      "text/plain": "1962858099.5554516"
     },
     "metadata": {},
     "execution_count": 12
    }
   ],
   "source": [
    "def estimatemax(s,n):\n",
    "   return 2**(s+1)*(math.log(n)+1)**s/n\n",
    "estimatemax(10,1009)"
   ]
  },
  {
   "cell_type": "code",
   "execution_count": null,
   "metadata": {},
   "outputs": [],
   "source": []
  }
 ]
}