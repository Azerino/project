{
 "cells": [
  {
   "cell_type": "markdown",
   "metadata": {},
   "source": [
    "# Explaining the fast CBC algorithm"
   ]
  },
  {
   "cell_type": "code",
   "execution_count": 1,
   "metadata": {},
   "outputs": [],
   "source": [
    "from test import tools\n",
    "import numpy as np"
   ]
  },
  {
   "cell_type": "code",
   "execution_count": 3,
   "metadata": {},
   "outputs": [],
   "source": [
    "d = 5\n",
    "n = 7\n",
    "omega = lambda x: np.pi*np.pi*(x**2-x+1/6)\n",
    "omega_n = omega(np.arange(0,n)/n)\n",
    "gamma = np.power(np.arange(1,d+1),-1.5) "
   ]
  },
  {
   "cell_type": "markdown",
   "metadata": {},
   "source": [
    "Assume that some vector $z_0 \\in \\mathbb{Z}_N^{d-1}$ is optimized until $d-1$ dimensions."
   ]
  },
  {
   "cell_type": "code",
   "execution_count": 9,
   "metadata": {},
   "outputs": [
    {
     "output_type": "execute_result",
     "data": {
      "text/plain": "array([5, 4, 3, 2])"
     },
     "metadata": {},
     "execution_count": 9
    }
   ],
   "source": [
    "z0 = np.random.randint(1, n, d-1)\n",
    "z0"
   ]
  },
  {
   "cell_type": "markdown",
   "metadata": {},
   "source": [
    "Goal: Optimize the following worst case error function\n",
    "\n",
    "$$ e_{s}^{2}\\left(z_{s}\\right)=-1+\\frac{1}{n} \\sum_{k=0}^{n-1} \\prod_{j=1}^{s}\\left(1+\\gamma_{j} \\omega\\left(\\left\\{\\frac{k z_{j}}{n}\\right\\}\\right)\\right) . $$\n",
    "\n",
    "Important step is to break the product above into two parts:\n",
    "\n",
    "$$ \\begin{aligned} \\prod_{j=1}^{s}\\left(1+\\gamma_{j} \\omega\\left(\\left\\{\\frac{k z_{j}}{n}\\right\\}\\right)\\right)=& \\left(1+\\gamma_{s} \\omega\\left(\\left\\{\\frac{k z_{s}}{n}\\right\\}\\right)\\right) \\\\ & \\cdot  \\left(\\prod_{j=1}^{s-1}\\left(1+\\gamma_{j} \\omega\\left(\\left\\{\\frac{k z_{j}}{n}\\right\\}\\right)\\right)\\right) \\end{aligned} . $$\n",
    "\n",
    "And then:\n",
    "\n",
    "$$ e_{s}^{2}\\left(z_{s}\\right)=-1+\\frac{1}{n} \\sum_{k=0}^{n-1}\\left(1+\\gamma_{s} \\omega\\left(\\left\\{\\frac{k z_{s}}{n}\\right\\}\\right)\\right) \\cdot \\mathbf{p}_{s-1}[k] . $$\n",
    "\n",
    "The vector $ \\mathbf{p}_{s-1} \\in \\mathbb{R}^n$ :\n",
    "\n",
    "$$ \\mathbf{p}_{s-1}[k] =  \\prod_{j=1}^{s-1}\\left(1+\\gamma_{j} \\omega\\left(\\left\\{\\frac{k z_{j}}{n}\\right\\}\\right)\\right) $$ .\n"
   ]
  },
  {
   "cell_type": "code",
   "execution_count": 10,
   "metadata": {},
   "outputs": [],
   "source": [
    "p = np.ones(n)\n",
    "for j in np.arange(0,d-1):\n",
    "    p = np.multiply(p, 1 + gamma[j]*omega_n[z0[j]*np.arange(0,n) % n])"
   ]
  },
  {
   "cell_type": "markdown",
   "metadata": {},
   "source": [
    "Now, compute at each step:\n",
    "$$\n",
    "\\begin{aligned} \\mathbf{e}_{s}^{2} &=-1+\\frac{1}{n} K_{n, \\gamma_{s}} \\cdot \\mathbf{p}_{s-1} \\\\ &=-1+\\frac{1}{n}\\left(1+\\gamma_{s} \\Omega_{n}\\right) \\cdot \\mathbf{p}_{s-1} \\end{aligned}\n",
    "$$\n",
    "\n",
    "\n",
    "Rader factorization\n",
    "\n",
    "$$\n",
    "\\Omega_{n}=\\Pi_{n, \\rho}^{\\prime} \\cdot\\left[\\begin{array}{cc}\\omega_{0} \\mathbf{1}_{n-1} & C_{n-1}\\end{array}\\right] \\cdot \\Pi_{n, \\rho^{-1}}^{T}\n",
    "$$,\n",
    "\n",
    "where $\\rho$ is a primitive root of $n$, and\n",
    "$$\n",
    "\\begin{aligned} C_{n-1} &=\\operatorname{circ}\\left(\\boldsymbol{\\psi}^{\\prime}\\right) \\\\ \\boldsymbol{\\psi} &:=\\Pi_{n, \\rho}^{T} \\cdot \\boldsymbol{\\omega} \\end{aligned}\n",
    "$$."
   ]
  },
  {
   "cell_type": "code",
   "execution_count": 11,
   "metadata": {},
   "outputs": [],
   "source": [
    "from test.generatorp import generatorp"
   ]
  },
  {
   "cell_type": "code",
   "execution_count": 12,
   "metadata": {},
   "outputs": [
    {
     "output_type": "execute_result",
     "data": {
      "text/plain": "3"
     },
     "metadata": {},
     "execution_count": 12
    }
   ],
   "source": [
    "g = generatorp(7)\n",
    "g"
   ]
  },
  {
   "cell_type": "markdown",
   "metadata": {},
   "source": [
    "Representation of the permutation matrix\n",
    "$ \\Pi_{n, \\rho}^{T} $ , without the first row and column:"
   ]
  },
  {
   "cell_type": "code",
   "execution_count": 14,
   "metadata": {},
   "outputs": [
    {
     "output_type": "execute_result",
     "data": {
      "text/plain": "array([1, 3, 2, 6, 4, 5])"
     },
     "metadata": {},
     "execution_count": 14
    }
   ],
   "source": [
    "perm = np.zeros(n-1, dtype=int)\n",
    "perm[0] = 1\n",
    "for i in np.arange(1, n-1):\n",
    "    perm[i] = (perm[i-1]*g) % n\n",
    "perm"
   ]
  },
  {
   "cell_type": "markdown",
   "metadata": {},
   "source": [
    "The vector $\\boldsymbol{\\psi}^{\\prime}$ :"
   ]
  },
  {
   "cell_type": "code",
   "execution_count": 15,
   "metadata": {},
   "outputs": [
    {
     "output_type": "execute_result",
     "data": {
      "text/plain": "array([ 0.43641108, -0.77211191, -0.36927091,  0.43641108, -0.77211191,\n       -0.36927091])"
     },
     "metadata": {},
     "execution_count": 15
    }
   ],
   "source": [
    "psi0 = omega(0)\n",
    "psi = omega(np.divide(perm,n))\n",
    "psi"
   ]
  },
  {
   "cell_type": "code",
   "execution_count": 16,
   "metadata": {},
   "outputs": [
    {
     "output_type": "execute_result",
     "data": {
      "text/plain": "array([-1.40994349e+00+0.j        ,  2.77555756e-16+0.j        ,\n        2.01420498e+00+0.69774107j,  2.77555756e-16+0.j        ,\n        2.01420498e+00-0.69774107j,  2.77555756e-16+0.j        ])"
     },
     "metadata": {},
     "execution_count": 16
    }
   ],
   "source": [
    "fft_psi = np.fft.fft(psi)\n",
    "fft_psi"
   ]
  },
  {
   "cell_type": "markdown",
   "metadata": {},
   "source": [
    "Create $\\Pi_{n, \\rho^{-1}}^{T}$ :"
   ]
  },
  {
   "cell_type": "code",
   "execution_count": 10,
   "metadata": {},
   "outputs": [],
   "source": [
    "# perm_inv = \n",
    "perm_inv = np.zeros(n-1, dtype=int)\n",
    "for i in np.arange(1, n):\n",
    "    perm_inv[perm[i-1]-1]= i\n",
    "perm_inv"
   ]
  },
  {
   "cell_type": "markdown",
   "metadata": {},
   "source": [
    "Error $\\mathbf{e}_{s}^{2}$"
   ]
  },
  {
   "cell_type": "code",
   "execution_count": 11,
   "metadata": {},
   "outputs": [],
   "source": [
    "# e2 = np.fft.ifft(np.multiply(fft_psi, np.fft.fft(p[perm_inv])))"
   ]
  },
  {
   "cell_type": "code",
   "execution_count": null,
   "metadata": {},
   "outputs": [],
   "source": []
  }
 ],
 "metadata": {
  "kernelspec": {
   "name": "Python 3.8.5 32-bit ('.venv')",
   "display_name": "Python 3.8.5 32-bit ('.venv')",
   "metadata": {
    "interpreter": {
     "hash": "dfaae3b4c96d05185dffe78e81456b96e4661ad84070043de12cb911b924aa8d"
    }
   }
  },
  "language_info": {
   "codemirror_mode": {
    "name": "ipython",
    "version": 3
   },
   "file_extension": ".py",
   "mimetype": "text/x-python",
   "name": "python",
   "nbconvert_exporter": "python",
   "pygments_lexer": "ipython3",
   "version": "3.8.5-final"
  }
 },
 "nbformat": 4,
 "nbformat_minor": 2
}